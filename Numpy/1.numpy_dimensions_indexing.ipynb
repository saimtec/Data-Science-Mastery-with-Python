{
 "cells": [
  {
   "cell_type": "markdown",
   "id": "608deb99",
   "metadata": {},
   "source": [
    "# numpy\n",
    "######  numpy ->(numerical python) -> wprks with numerical data\n",
    "######  contain multidimensial arraty and data structure\n",
    "######  contain high level of mathematical operations\n",
    "######  why use numpy -> (in traditional puthon there is list (acts as array) .Numpy provide an array object which is 50x faster then list)\n",
    "######  numpy provide a lot of supporting functions for ndarray\n",
    "\n",
    "######  why numpy is fater -> (it stored array at one continuous place in memory so, process can access and manipulate .efficentily. The CPU cache can prefetch the next elements efficiently.) -> this is called locality of reference\n",
    "######  In contrast, Python lists store references (pointers) to objects scattered across memory\n"
   ]
  },
  {
   "cell_type": "code",
   "execution_count": 3,
   "id": "740473bd",
   "metadata": {},
   "outputs": [],
   "source": [
    "import numpy as np"
   ]
  },
  {
   "cell_type": "code",
   "execution_count": 4,
   "id": "144cbf05",
   "metadata": {},
   "outputs": [
    {
     "name": "stdout",
     "output_type": "stream",
     "text": [
      "[1 2 3 4 5]\n",
      "<class 'numpy.ndarray'>\n"
     ]
    }
   ],
   "source": [
    "# making a numpy array using a list\n",
    "arr = np.array([1,2,3,4,5])\n",
    "print(arr)\n",
    "print(type(arr))"
   ]
  },
  {
   "cell_type": "code",
   "execution_count": null,
   "id": "dae3c63a",
   "metadata": {},
   "outputs": [
    {
     "name": "stdout",
     "output_type": "stream",
     "text": [
      "[1 2 3 4 5]\n",
      "<class 'numpy.ndarray'>\n"
     ]
    }
   ],
   "source": [
    "# making a numpy array using a tuple\n",
    "arr = np.array([1,2,3,4,5])\n",
    "print(arr)\n",
    "print(type(arr))\n",
    "#the answer we got will still be in the form of list"
   ]
  },
  {
   "cell_type": "markdown",
   "id": "2e1ae9d0",
   "metadata": {},
   "source": [
    "<br><br>\n",
    "<h1>Dimensions\n",
    "<h3>ndim -> to check the dimension</h3>"
   ]
  },
  {
   "cell_type": "code",
   "execution_count": null,
   "id": "0b336b23",
   "metadata": {},
   "outputs": [
    {
     "name": "stdout",
     "output_type": "stream",
     "text": [
      "20\n",
      "<class 'numpy.ndarray'>\n",
      "0\n"
     ]
    }
   ],
   "source": [
    "# zero dimension array\n",
    "arr = np.array(20)\n",
    "print(arr)\n",
    "print(type(arr))\n",
    "print(arr.ndim)"
   ]
  },
  {
   "cell_type": "code",
   "execution_count": null,
   "id": "4ace8040",
   "metadata": {},
   "outputs": [
    {
     "name": "stdout",
     "output_type": "stream",
     "text": [
      "[1 2 3 4 5]\n",
      "<class 'numpy.ndarray'>\n",
      "1\n"
     ]
    }
   ],
   "source": [
    "# 1d array\n",
    "arr = np.array([1,2,3,4,5])\n",
    "print(arr)\n",
    "print(type(arr))\n",
    "print(arr.ndim)"
   ]
  },
  {
   "cell_type": "code",
   "execution_count": null,
   "id": "500c2374",
   "metadata": {},
   "outputs": [
    {
     "name": "stdout",
     "output_type": "stream",
     "text": [
      "[[1 2 3 4]\n",
      " [5 6 7 8]]\n",
      "2\n"
     ]
    }
   ],
   "source": [
    "# 2d array\n",
    "arr = np.array([[1,2,3,4],[5,6,7,8]])\n",
    "print(arr)\n",
    "print(arr.ndim)"
   ]
  },
  {
   "cell_type": "code",
   "execution_count": 10,
   "id": "620949d8",
   "metadata": {},
   "outputs": [
    {
     "name": "stdout",
     "output_type": "stream",
     "text": [
      "[[1.3 2.3 3.6 4.7]\n",
      " [5.8 6.4 7.3 8. ]]\n",
      "2\n"
     ]
    }
   ],
   "source": [
    "#can be floating numbers\n",
    "arr = np.array([[1.3,2.3,3.6,4.7],[5.8,6.4,7.3,8]])\n",
    "print(arr)\n",
    "print(arr.ndim)"
   ]
  },
  {
   "cell_type": "code",
   "execution_count": 17,
   "id": "9f1f4dc7",
   "metadata": {},
   "outputs": [
    {
     "name": "stdout",
     "output_type": "stream",
     "text": [
      "[[[1 2 3 4]\n",
      "  [5 6 7 8]]\n",
      "\n",
      " [[1 2 3 4]\n",
      "  [5 6 7 8]]]\n",
      "3\n"
     ]
    }
   ],
   "source": [
    "# 3d array\n",
    "arr = np.array([[[1,2,3,4],[5,6,7,8]] ,[[1,2,3,4],[5,6,7,8]]])\n",
    "print(arr)\n",
    "print(arr.ndim)\n"
   ]
  },
  {
   "cell_type": "code",
   "execution_count": null,
   "id": "ce95a449",
   "metadata": {},
   "outputs": [
    {
     "name": "stdout",
     "output_type": "stream",
     "text": [
      "[[[[[1 2 3 4]]]]]\n",
      "dimension is : 5\n"
     ]
    }
   ],
   "source": [
    "# creating a 5d array\n",
    "arr= np.array([1,2,3,4] , ndmin=5)\n",
    "print(arr)\n",
    "print(f\"dimension is : {arr.ndim}\")\n"
   ]
  },
  {
   "cell_type": "markdown",
   "id": "da55cb41",
   "metadata": {},
   "source": [
    "<br><br>\n",
    "# numpy indexing (starting index is 0)"
   ]
  },
  {
   "cell_type": "code",
   "execution_count": null,
   "id": "5d7349ec",
   "metadata": {},
   "outputs": [
    {
     "name": "stdout",
     "output_type": "stream",
     "text": [
      "zero index is 1\n",
      "fifth index is 5\n",
      "zero index to fifth index is [1 2 3 4]\n",
      "sum of zero index and fifth index 6\n"
     ]
    }
   ],
   "source": [
    "# 1d indexing\n",
    "arr= np.array([1,2,3,4,5,6,7,8,9])\n",
    "print(f\"zero index is {arr[0]}\")\n",
    "print(f\"fifth index is {arr[4]}\")\n",
    "print(f\"zero index to fifth index is {arr[0:4]}\")\n",
    "print(f\"sum of zero index and fifth index {arr[0] + arr[4]}\")"
   ]
  },
  {
   "cell_type": "code",
   "execution_count": 32,
   "id": "e0b14c82",
   "metadata": {},
   "outputs": [
    {
     "name": "stdout",
     "output_type": "stream",
     "text": [
      "first element of first row 1\n",
      "third element of first row 3\n",
      "first element of second row 5\n",
      "third element of second row 7\n",
      "sum of first element of first row and third element of second row 8\n"
     ]
    }
   ],
   "source": [
    "# 2d indexing  first row is 0 and second is 1\n",
    "arr = np.array([[1,2,3,4],[5,6,7,8]])\n",
    "print(f\"first element of first row {arr[0,0]}\")\n",
    "print(f\"third element of first row {arr[0,2]}\")\n",
    "print(f\"first element of second row {arr[1,0]}\")\n",
    "print(f\"third element of second row {arr[1,2]}\")\n",
    "print(f\"sum of first element of first row and third element of second row {arr[0,0] + arr[1,2]}\")\n",
    "\n",
    "\n"
   ]
  },
  {
   "cell_type": "code",
   "execution_count": 38,
   "id": "ee3512b1",
   "metadata": {},
   "outputs": [
    {
     "name": "stdout",
     "output_type": "stream",
     "text": [
      "printing 1 from 3d array: 1\n",
      "printing 7 from 3d array: 7\n",
      "printing 10 from 3d array: 10\n",
      "printing 16 from 3d array: 16\n",
      "sum of 7 and 16 is : 23\n"
     ]
    }
   ],
   "source": [
    "# 3d indexing  (first row zero and second row is 2 and (in inner also first row is 0 and second row is 1))\n",
    "arr = np.array([[[1,2,3,4],[5,6,7,8]] ,[[9,10,11,12],[13,14,15,16]]])\n",
    "print(f\"printing 1 from 3d array: {arr[0,0,0]}\")\n",
    "print(f\"printing 7 from 3d array: {arr[0,1,2]}\")\n",
    "print(f\"printing 10 from 3d array: {arr[1,0,1]}\")\n",
    "print(f\"printing 16 from 3d array: {arr[1,1,3]}\")\n",
    "print(f\"sum of 7 and 16 is : {arr[0,1,2] + arr[1,1,3]}\")\n",
    "\n"
   ]
  }
 ],
 "metadata": {
  "kernelspec": {
   "display_name": ".venv",
   "language": "python",
   "name": "python3"
  },
  "language_info": {
   "codemirror_mode": {
    "name": "ipython",
    "version": 3
   },
   "file_extension": ".py",
   "mimetype": "text/x-python",
   "name": "python",
   "nbconvert_exporter": "python",
   "pygments_lexer": "ipython3",
   "version": "3.11.0"
  }
 },
 "nbformat": 4,
 "nbformat_minor": 5
}
