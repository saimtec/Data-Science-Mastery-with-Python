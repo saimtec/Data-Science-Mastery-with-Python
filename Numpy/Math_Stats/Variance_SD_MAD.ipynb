{
 "cells": [
  {
   "cell_type": "markdown",
   "id": "2daec73f",
   "metadata": {},
   "source": [
    "# Variance,Standard Deviation & Mean Absolute Deviation (MAD)"
   ]
  },
  {
   "cell_type": "markdown",
   "id": "876f1998",
   "metadata": {},
   "source": [
    "> WHY WE NEED THEM\n",
    "\n",
    "Imagine two datasets:\n",
    "\n",
    "* Dataset A:\t                        \n",
    "50, 52, 48, 49, 51\t \n",
    "             \n",
    "* Dataset B:\n",
    "10, 90, 50, 95, 5\n",
    "\n",
    "Both have the same mean = 50,\n",
    "but Dataset B is much more spread out.\n",
    "\n",
    "That “spread” or variability is what variance, SD, and MAD measure."
   ]
  },
  {
   "cell_type": "markdown",
   "id": "455835e4",
   "metadata": {},
   "source": [
    "<br><br>\n",
    "> # MAB -> Mean Absolute Deviation\n",
    "it takes the absolute value of differences from mean.\n",
    "\n",
    "$$ 𝑀AD = \\frac{(x_i-𝜇)}{N}  $$\n",
    "\n",
    "MAD is less affected by outliers than variance or SD.\n",
    "MAD tells you on average, how far each value is from the mean.\n",
    "\n",
    "It’s less sensitive to extreme values (outliers) compared to variance or SD.\n"
   ]
  },
  {
   "cell_type": "code",
   "execution_count": 1,
   "id": "6af94517",
   "metadata": {},
   "outputs": [
    {
     "name": "stdout",
     "output_type": "stream",
     "text": [
      "Data: [ 2  4  6  8 10]\n",
      "Mean: 6.0\n",
      "MAD: 2.4\n"
     ]
    }
   ],
   "source": [
    "import numpy as np\n",
    "\n",
    "data = np.array([2, 4, 6, 8, 10])\n",
    "\n",
    "mean = np.mean(data)\n",
    "mad = np.mean(np.abs(data - mean))\n",
    "\n",
    "print(\"Data:\", data)\n",
    "print(\"Mean:\", mean)\n",
    "print(\"MAD:\", mad)\n"
   ]
  },
  {
   "cell_type": "markdown",
   "id": "8856c215",
   "metadata": {},
   "source": [
    "### Step-by-step calculation — Mean Absolute Deviation (MAD)\n",
    "\n",
    "**Data:** `[2, 4, 6, 8, 10]`  \n",
    "**Mean:** `(2 + 4 + 6 + 8 + 10) / 5 = 6`\n",
    "\n",
    "**Now find absolute deviations:**\n",
    "\n",
    "| Value | Deviation from Mean | Absolute Deviation |\n",
    "|-------:|:-------------------:|-------------------:|\n",
    "| 2     | 2 - 6 = -4          | 4                  |\n",
    "| 4     | 4 - 6 = -2          | 2                  |\n",
    "| 6     | 6 - 6 = 0           | 0                  |\n",
    "| 8     | 8 - 6 = 2           | 2                  |\n",
    "| 10    | 10 - 6 = 4          | 4                  |\n",
    "\n",
    "**Average of absolute deviations:**  \n",
    "\n",
    "MAD = frac4 + 2 + 0 + 2 + 4/5 = 2.4\n",
    "\n",
    "\n",
    " **MAD = 2.4**\n"
   ]
  },
  {
   "cell_type": "markdown",
   "id": "0db73b76",
   "metadata": {},
   "source": [
    "<br><br><br>\n",
    "># Variance\n",
    " $$\n",
    "\\sigma^2 = \\frac{1}{N} \\sum (x_i - \\mu)^2\n",
    "$$\n",
    "* x_i  = each data point\n",
    "* 𝜇= mean\n",
    "* N = total number of data points\n",
    "\n",
    "**It tells how much data points differ on average from the mean.** \n",
    "**The unit of variance is squared, e.g., if your data is in cm, variance is in cm².**"
   ]
  },
  {
   "cell_type": "code",
   "execution_count": 3,
   "id": "388e4f3e",
   "metadata": {},
   "outputs": [
    {
     "name": "stdout",
     "output_type": "stream",
     "text": [
      "Mean: 6.0\n",
      "Variance: 8.0\n"
     ]
    }
   ],
   "source": [
    "data = np.array([2, 4, 6, 8, 10])\n",
    "\n",
    "mean = np.mean(data)\n",
    "variance = np.var(data)\n",
    "\n",
    "print(\"Mean:\", mean)\n",
    "print(\"Variance:\", variance)"
   ]
  },
  {
   "cell_type": "markdown",
   "id": "b32230b1",
   "metadata": {},
   "source": [
    "### Step-by-step calculation — Variance & Standard Deviation\n",
    "\n",
    "**Data:** `[2, 4, 6, 8, 10]`  \n",
    "**Mean:** `(2 + 4 + 6 + 8 + 10) / 5 = 6`\n",
    "\n",
    "\n",
    "| Value | Deviation from Mean | Squared Deviation |\n",
    "|-------:|:-------------------:|------------------:|\n",
    "| 2     | 2 - 6 = -4          | (-4)² = 16        |\n",
    "| 4     | 4 - 6 = -2          | (-2)² = 4         |\n",
    "| 6     | 6 - 6 = 0           | 0² = 0            |\n",
    "| 8     | 8 - 6 = 2           | 2² = 4            |\n",
    "| 10    | 10 - 6 = 4          | 4² = 16           |\n",
    "\n",
    "\n",
    "####  Step 2: Calculate Variance\n",
    "\n",
    "$$\n",
    "\\sigma^2 = \\frac{1}{N} \\sum (x_i - \\mu)^2\n",
    "$$\n",
    "\n",
    "$$\n",
    "\\sigma^2 = \\frac{16 + 4 + 0 + 4 + 16}{5} = \\frac{40}{5} = 8\n",
    "$$\n",
    "\n",
    " **Variance = 8**"
   ]
  },
  {
   "cell_type": "markdown",
   "id": "509d7ab7",
   "metadata": {},
   "source": [
    "<br><br><br><br>\n",
    "># Standard Deviation\n",
    "$$\n",
    "SD = \\sqrt{\\frac{1}{N} \\sum (x_i - \\mu)^2}\n",
    "$$\n",
    "* x_i  = each data point\n",
    "* 𝜇= mean\n",
    "* N = total number of data points\n",
    "\n",
    "> * Square root of the average of squared differences from the mean \n",
    "> * Measures spread in statistics and ML (mathematically powerful) \n",
    "> * SD (2.83)More sensitive — large deviations affect SD more\n"
   ]
  },
  {
   "cell_type": "code",
   "execution_count": 4,
   "id": "d7e24f1c",
   "metadata": {},
   "outputs": [
    {
     "name": "stdout",
     "output_type": "stream",
     "text": [
      "Standard Deviation: 2.8284271247461903\n"
     ]
    }
   ],
   "source": [
    "std_dev = np.std(data)\n",
    "print(\"Standard Deviation:\", std_dev)\n"
   ]
  },
  {
   "cell_type": "markdown",
   "id": "53d5940d",
   "metadata": {},
   "source": [
    " **from above table and formula just taking square root of variance**\n",
    "> **Standard Deviation ≈ 2.83**"
   ]
  },
  {
   "cell_type": "markdown",
   "id": "922773fc",
   "metadata": {},
   "source": [
    "<br><br><br><br><br><br>\n",
    "**Now we will see how these three are different from eachc other and how SD is more accuurate than MAD**"
   ]
  },
  {
   "cell_type": "code",
   "execution_count": 27,
   "id": "b2237a11",
   "metadata": {},
   "outputs": [
    {
     "name": "stdout",
     "output_type": "stream",
     "text": [
      "DATASET 1 ➤ [67 69 71 73 75]\n",
      "Mean = 71.00, Variance = 8.00, SD = 2.83, MAD = 2.40\n",
      "\n",
      "DATASET 2 ➤ [65 71 71 71 77]\n",
      "Mean = 71.00, Variance = 14.40, SD = 3.79, MAD = 2.40\n"
     ]
    }
   ],
   "source": [
    "import numpy as np\n",
    "\n",
    "# Dataset 1: smooth, even spread\n",
    "data1 = np.array([67, 69, 71, 73, 75])\n",
    "\n",
    "# Dataset 2: same mean & same MAD, but with more extreme points (zeros in deviations)\n",
    "data2 = np.array([65, 71, 71, 71, 77])  # deviations: -6,0,0,0,+6\n",
    "\n",
    "def describe(data):\n",
    "    mean = np.mean(data)\n",
    "    var = np.var(data)\n",
    "    std = np.std(data)\n",
    "    mad = np.mean(np.abs(data - mean))\n",
    "    return mean, var, std, mad\n",
    "\n",
    "mean1, var1, std1, mad1 = describe(data1)\n",
    "mean2, var2, std2, mad2 = describe(data2)\n",
    "\n",
    "print(\"DATASET 1 ➤\", data1)\n",
    "print(f\"Mean = {mean1:.2f}, Variance = {var1:.2f}, SD = {std1:.2f}, MAD = {mad1:.2f}\\n\")\n",
    "\n",
    "print(\"DATASET 2 ➤\", data2)\n",
    "print(f\"Mean = {mean2:.2f}, Variance = {var2:.2f}, SD = {std2:.2f}, MAD = {mad2:.2f}\")\n"
   ]
  },
  {
   "cell_type": "markdown",
   "id": "7d713d17",
   "metadata": {},
   "source": [
    "> * Both datasets look “equally spread” according to MAD,\n",
    "> * but SD says dataset 2 is more spread out — and that’s actually true, because of the two far values (65 and 77).\n",
    "> * SD is better for detecting extreme values and for use in statistical or ML models.\n",
    "> * MAD is simpler and more “stable” when data has outliers, but it hides the effect of extremes."
   ]
  }
 ],
 "metadata": {
  "kernelspec": {
   "display_name": ".venv",
   "language": "python",
   "name": "python3"
  },
  "language_info": {
   "codemirror_mode": {
    "name": "ipython",
    "version": 3
   },
   "file_extension": ".py",
   "mimetype": "text/x-python",
   "name": "python",
   "nbconvert_exporter": "python",
   "pygments_lexer": "ipython3",
   "version": "3.11.0"
  }
 },
 "nbformat": 4,
 "nbformat_minor": 5
}
