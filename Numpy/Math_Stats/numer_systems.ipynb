{
 "cells": [
  {
   "cell_type": "markdown",
   "id": "652f6a93",
   "metadata": {},
   "source": [
    "# 🔢 Number Systems\n",
    "Understanding how numbers are represented, stored, and converted in computing.  \n",
    "These concepts form the base for all data science, ML, and AI numerical operations.\n"
   ]
  },
  {
   "cell_type": "markdown",
   "id": "d7ddab2d",
   "metadata": {},
   "source": [
    "##  What is a Number System?\n",
    "\n",
    "A **number system** defines how numbers are represented using symbols (digits).\n",
    "\n",
    "| System | Base | Digits | Example |\n",
    "|:--------|:------:|:---------|:-----------|\n",
    "| **Binary** | 2 | 0, 1 | 1011₂ |\n",
    "| **Octal** | 8 | 0–7 | 127₈ |\n",
    "| **Decimal** | 10 | 0–9 | 593₁₀ |\n",
    "| **Hexadecimal** | 16 | 0–9, A–F | 3F₁₆ |\n",
    "\n",
    "Each system has:\n",
    "- **Base (Radix):** number of unique digits it uses  \n",
    "- **Digits:** symbols allowed in that system\n"
   ]
  },
  {
   "cell_type": "markdown",
   "id": "7ebbb1d5",
   "metadata": {},
   "source": [
    "##   Decimal System (Base 10)\n",
    "\n",
    "This is the system we use in daily life.\n",
    "\n",
    "**Example:**\n",
    "$$\n",
    "593_{10} = 5\\times10^2 + 9\\times10^1 + 3\\times10^0 = 500 + 90 + 3 = 593\n",
    "$$\n"
   ]
  },
  {
   "cell_type": "markdown",
   "id": "e1dc234f",
   "metadata": {},
   "source": [
    "## Binary System (Base 2)\n",
    "\n",
    "Used by computers — everything (text, images, ML weights, etc.) is stored as 0s and 1s.\n",
    "\n",
    "**Example:**\n",
    "$$\n",
    "1011_2 = 1\\times2^3 + 0\\times2^2 + 1\\times2^1 + 1\\times2^0 = 8 + 0 + 2 + 1 = 11_{10}\n",
    "$$\n"
   ]
  },
  {
   "cell_type": "markdown",
   "id": "f458ec1a",
   "metadata": {},
   "source": [
    "## Octal System (Base 8)\n",
    "\n",
    "Used in some older systems; acts as shorthand for binary (3 bits = 1 octal digit).\n",
    "\n",
    "**Example:**\n",
    "$$\n",
    "127_8 = 1\\times8^2 + 2\\times8^1 + 7\\times8^0 = 64 + 16 + 7 = 87_{10}\n",
    "$$\n"
   ]
  },
  {
   "cell_type": "markdown",
   "id": "20031d22",
   "metadata": {},
   "source": [
    "##  Hexadecimal System (Base 16)\n",
    "\n",
    "Very important in computing — used in:\n",
    "- Memory addressing  \n",
    "- Colors (`#A3B4FF`)  \n",
    "- Machine learning model weights (binary ↔ hex view)\n",
    "\n",
    "**Digits:** 0–9, A–F (where A=10, B=11, ..., F=15)\n",
    "\n",
    "**Example:**\n",
    "$$\n",
    "3F_{16} = 3\\times16^1 + 15\\times16^0 = 48 + 15 = 63_{10}\n",
    "$$\n"
   ]
  },
  {
   "cell_type": "markdown",
   "id": "117df681",
   "metadata": {},
   "source": [
    "##  Conversions Between Systems\n",
    "\n",
    "| Conversion | Method | Example |\n",
    "|:-------------|:------------------|:------------------|\n",
    "| **Binary → Decimal** | Multiply each bit by powers of 2 | `1011₂ = 11₁₀` |\n",
    "| **Decimal → Binary** | Divide by 2 repeatedly, note remainders | 13 → 1101₂ |\n",
    "| **Binary → Octal** | Group bits in 3s from right | 101101₂ = 55₈ |\n",
    "| **Binary → Hexadecimal** | Group bits in 4s from right | 10111100₂ = BC₁₆ |\n"
   ]
  },
  {
   "cell_type": "markdown",
   "id": "5dc736f0",
   "metadata": {},
   "source": [
    "## Why Number Systems Matter in AI / Data Science\n",
    "\n",
    "| Area | Relevance |\n",
    "|:------|:-------------|\n",
    "| **Data Storage** | Binary representation (e.g., float32, int8) |\n",
    "| **Images** | Pixels stored as integers or hex (RGB) |\n",
    "| **Neural Networks** | Weights, biases, gradients stored in binary floating-point |\n",
    "| **Optimization** | Precision & rounding errors arise from number representation |\n"
   ]
  }
 ],
 "metadata": {
  "language_info": {
   "name": "python"
  }
 },
 "nbformat": 4,
 "nbformat_minor": 5
}
