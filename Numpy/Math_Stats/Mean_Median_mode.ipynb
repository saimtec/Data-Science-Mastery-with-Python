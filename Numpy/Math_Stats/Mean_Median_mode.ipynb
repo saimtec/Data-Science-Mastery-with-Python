{
 "cells": [
  {
   "cell_type": "markdown",
   "id": "b1e1c59e",
   "metadata": {},
   "source": [
    "# Understandin Mean , Median and Mode"
   ]
  },
  {
   "cell_type": "markdown",
   "id": "639799cb",
   "metadata": {},
   "source": [
    " <br><br>\n",
    "> # Mean\n",
    "It’s the sum of all values divided by the total number of values.\n",
    "\n",
    "Mean= ∑x / i\n",
    "\n",
    "Example:\n",
    "Numbers = [2, 4, 6, 8, 10]\n",
    "Mean = (2 + 4 + 6 + 8 + 10) / 5 = 6\n",
    "\n",
    "> mean is sensitive to outliers (a very high or low number can change it a lot)."
   ]
  },
  {
   "cell_type": "code",
   "execution_count": 14,
   "id": "2ea0f157",
   "metadata": {},
   "outputs": [
    {
     "data": {
      "text/html": [
       "<div>\n",
       "<style scoped>\n",
       "    .dataframe tbody tr th:only-of-type {\n",
       "        vertical-align: middle;\n",
       "    }\n",
       "\n",
       "    .dataframe tbody tr th {\n",
       "        vertical-align: top;\n",
       "    }\n",
       "\n",
       "    .dataframe thead th {\n",
       "        text-align: right;\n",
       "    }\n",
       "</style>\n",
       "<table border=\"1\" class=\"dataframe\">\n",
       "  <thead>\n",
       "    <tr style=\"text-align: right;\">\n",
       "      <th></th>\n",
       "      <th>Name</th>\n",
       "      <th>Income</th>\n",
       "    </tr>\n",
       "  </thead>\n",
       "  <tbody>\n",
       "    <tr>\n",
       "      <th>0</th>\n",
       "      <td>Abish</td>\n",
       "      <td>10000.0</td>\n",
       "    </tr>\n",
       "    <tr>\n",
       "      <th>1</th>\n",
       "      <td>Saim</td>\n",
       "      <td>15000.0</td>\n",
       "    </tr>\n",
       "    <tr>\n",
       "      <th>2</th>\n",
       "      <td>Haider</td>\n",
       "      <td>20000.0</td>\n",
       "    </tr>\n",
       "    <tr>\n",
       "      <th>3</th>\n",
       "      <td>Fahad</td>\n",
       "      <td>NaN</td>\n",
       "    </tr>\n",
       "    <tr>\n",
       "      <th>4</th>\n",
       "      <td>Sana</td>\n",
       "      <td>30000.0</td>\n",
       "    </tr>\n",
       "    <tr>\n",
       "      <th>5</th>\n",
       "      <td>Eman</td>\n",
       "      <td>35000.0</td>\n",
       "    </tr>\n",
       "    <tr>\n",
       "      <th>6</th>\n",
       "      <td>Elon Musk</td>\n",
       "      <td>100000000.0</td>\n",
       "    </tr>\n",
       "  </tbody>\n",
       "</table>\n",
       "</div>"
      ],
      "text/plain": [
       "        Name       Income\n",
       "0      Abish      10000.0\n",
       "1       Saim      15000.0\n",
       "2     Haider      20000.0\n",
       "3      Fahad          NaN\n",
       "4       Sana      30000.0\n",
       "5       Eman      35000.0\n",
       "6  Elon Musk  100000000.0"
      ]
     },
     "execution_count": 14,
     "metadata": {},
     "output_type": "execute_result"
    }
   ],
   "source": [
    "import pandas as pd\n",
    "import numpy as np\n",
    "\n",
    "df = pd.read_csv(\"Practice.csv\")\n",
    "df"
   ]
  },
  {
   "cell_type": "code",
   "execution_count": 15,
   "id": "00afa135",
   "metadata": {},
   "outputs": [
    {
     "name": "stdout",
     "output_type": "stream",
     "text": [
      "        Name       Income\n",
      "0      Abish      10000.0\n",
      "1       Saim      15000.0\n",
      "2     Haider      20000.0\n",
      "3      Fahad          NaN\n",
      "4       Sana      30000.0\n",
      "5       Eman      35000.0\n",
      "6  Elon Musk  100000000.0\n",
      "\n",
      "Average is : 16685000.0\n"
     ]
    }
   ],
   "source": [
    "print(df)\n",
    "print()\n",
    "print(f\"Average is : {df.Income.mean()}\")"
   ]
  },
  {
   "cell_type": "code",
   "execution_count": 19,
   "id": "eac0dc28",
   "metadata": {},
   "outputs": [
    {
     "data": {
      "text/html": [
       "<div>\n",
       "<style scoped>\n",
       "    .dataframe tbody tr th:only-of-type {\n",
       "        vertical-align: middle;\n",
       "    }\n",
       "\n",
       "    .dataframe tbody tr th {\n",
       "        vertical-align: top;\n",
       "    }\n",
       "\n",
       "    .dataframe thead th {\n",
       "        text-align: right;\n",
       "    }\n",
       "</style>\n",
       "<table border=\"1\" class=\"dataframe\">\n",
       "  <thead>\n",
       "    <tr style=\"text-align: right;\">\n",
       "      <th></th>\n",
       "      <th>Name</th>\n",
       "      <th>Income</th>\n",
       "    </tr>\n",
       "  </thead>\n",
       "  <tbody>\n",
       "    <tr>\n",
       "      <th>0</th>\n",
       "      <td>Abish</td>\n",
       "      <td>10000.0</td>\n",
       "    </tr>\n",
       "    <tr>\n",
       "      <th>1</th>\n",
       "      <td>Saim</td>\n",
       "      <td>15000.0</td>\n",
       "    </tr>\n",
       "    <tr>\n",
       "      <th>2</th>\n",
       "      <td>Haider</td>\n",
       "      <td>20000.0</td>\n",
       "    </tr>\n",
       "    <tr>\n",
       "      <th>3</th>\n",
       "      <td>Fahad</td>\n",
       "      <td>16685000.0</td>\n",
       "    </tr>\n",
       "    <tr>\n",
       "      <th>4</th>\n",
       "      <td>Sana</td>\n",
       "      <td>30000.0</td>\n",
       "    </tr>\n",
       "    <tr>\n",
       "      <th>5</th>\n",
       "      <td>Eman</td>\n",
       "      <td>35000.0</td>\n",
       "    </tr>\n",
       "    <tr>\n",
       "      <th>6</th>\n",
       "      <td>Elon Musk</td>\n",
       "      <td>100000000.0</td>\n",
       "    </tr>\n",
       "  </tbody>\n",
       "</table>\n",
       "</div>"
      ],
      "text/plain": [
       "        Name       Income\n",
       "0      Abish      10000.0\n",
       "1       Saim      15000.0\n",
       "2     Haider      20000.0\n",
       "3      Fahad   16685000.0\n",
       "4       Sana      30000.0\n",
       "5       Eman      35000.0\n",
       "6  Elon Musk  100000000.0"
      ]
     },
     "execution_count": 19,
     "metadata": {},
     "output_type": "execute_result"
    }
   ],
   "source": [
    "new_df = df.fillna(df.Income.mean())\n",
    "new_df"
   ]
  },
  {
   "cell_type": "markdown",
   "id": "e69b6118",
   "metadata": {},
   "source": [
    "<br><br>\n",
    "># Median\n",
    "\n",
    "he middle value when data is sorted in order.\n",
    "\n",
    "\n",
    "* Arrange data in order.\n",
    "\n",
    "* If count is odd → middle value.\n",
    "\n",
    "* If count is even → average of two middle values.\n",
    "\n",
    "Example:\n",
    "[2, 4, 6, 8, 10] → Median = 6\n",
    "[2, 4, 6, 8] → Median = (4 + 6) / 2 = 5\n",
    "\n",
    "> Median is not affected by outliers. As in mean due to one outlier / or large value we got a wrong average"
   ]
  },
  {
   "cell_type": "code",
   "execution_count": 18,
   "id": "ca6fee21",
   "metadata": {},
   "outputs": [
    {
     "data": {
      "text/html": [
       "<div>\n",
       "<style scoped>\n",
       "    .dataframe tbody tr th:only-of-type {\n",
       "        vertical-align: middle;\n",
       "    }\n",
       "\n",
       "    .dataframe tbody tr th {\n",
       "        vertical-align: top;\n",
       "    }\n",
       "\n",
       "    .dataframe thead th {\n",
       "        text-align: right;\n",
       "    }\n",
       "</style>\n",
       "<table border=\"1\" class=\"dataframe\">\n",
       "  <thead>\n",
       "    <tr style=\"text-align: right;\">\n",
       "      <th></th>\n",
       "      <th>Name</th>\n",
       "      <th>Income</th>\n",
       "    </tr>\n",
       "  </thead>\n",
       "  <tbody>\n",
       "    <tr>\n",
       "      <th>0</th>\n",
       "      <td>Abish</td>\n",
       "      <td>10000.0</td>\n",
       "    </tr>\n",
       "    <tr>\n",
       "      <th>1</th>\n",
       "      <td>Saim</td>\n",
       "      <td>15000.0</td>\n",
       "    </tr>\n",
       "    <tr>\n",
       "      <th>2</th>\n",
       "      <td>Haider</td>\n",
       "      <td>20000.0</td>\n",
       "    </tr>\n",
       "    <tr>\n",
       "      <th>3</th>\n",
       "      <td>Fahad</td>\n",
       "      <td>25000.0</td>\n",
       "    </tr>\n",
       "    <tr>\n",
       "      <th>4</th>\n",
       "      <td>Sana</td>\n",
       "      <td>30000.0</td>\n",
       "    </tr>\n",
       "    <tr>\n",
       "      <th>5</th>\n",
       "      <td>Eman</td>\n",
       "      <td>35000.0</td>\n",
       "    </tr>\n",
       "    <tr>\n",
       "      <th>6</th>\n",
       "      <td>Elon Musk</td>\n",
       "      <td>100000000.0</td>\n",
       "    </tr>\n",
       "  </tbody>\n",
       "</table>\n",
       "</div>"
      ],
      "text/plain": [
       "        Name       Income\n",
       "0      Abish      10000.0\n",
       "1       Saim      15000.0\n",
       "2     Haider      20000.0\n",
       "3      Fahad      25000.0\n",
       "4       Sana      30000.0\n",
       "5       Eman      35000.0\n",
       "6  Elon Musk  100000000.0"
      ]
     },
     "execution_count": 18,
     "metadata": {},
     "output_type": "execute_result"
    }
   ],
   "source": [
    "new_df = df.fillna(df.Income.median())\n",
    "new_df"
   ]
  },
  {
   "cell_type": "markdown",
   "id": "03deab13",
   "metadata": {},
   "source": [
    "<br><br>\n",
    "> # Mode\n",
    "The most frequent value in the dataset.\n",
    "\n",
    "Example:\n",
    "[2, 4, 4, 6, 8] → Mode = 4\n",
    "\n",
    " Mode is useful for categorical data (e.g., most common color, product, etc.)"
   ]
  }
 ],
 "metadata": {
  "kernelspec": {
   "display_name": ".venv",
   "language": "python",
   "name": "python3"
  },
  "language_info": {
   "codemirror_mode": {
    "name": "ipython",
    "version": 3
   },
   "file_extension": ".py",
   "mimetype": "text/x-python",
   "name": "python",
   "nbconvert_exporter": "python",
   "pygments_lexer": "ipython3",
   "version": "3.11.0"
  }
 },
 "nbformat": 4,
 "nbformat_minor": 5
}
