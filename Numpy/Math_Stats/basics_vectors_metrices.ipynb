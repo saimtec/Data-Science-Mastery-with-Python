{
 "cells": [
  {
   "cell_type": "code",
   "execution_count": 1,
   "id": "e5dc92ce",
   "metadata": {},
   "outputs": [],
   "source": [
    "import numpy as np\n"
   ]
  },
  {
   "cell_type": "markdown",
   "id": "201f44e0",
   "metadata": {},
   "source": [
    ">#  What is a Vector?\n",
    "A **vector** is a quantity that has both **magnitude** and **direction**.\n",
    "\n",
    "### Examples:\n",
    "- Velocity (speed + direction)\n",
    "- Force (magnitude + direction)\n",
    "\n",
    "In mathematics, a vector can be represented as an **ordered list of numbers**, e.g.\n",
    "\n",
    "$$ v = [2, 3, 4] $$\n",
    "\n",
    "This represents a vector in **3D space**."
   ]
  },
  {
   "cell_type": "markdown",
   "id": "6b22261f",
   "metadata": {},
   "source": [
    "<br><br>\n",
    "## Magnitude (Length) of a Vector\n",
    "\n",
    "The **magnitude (or length)** of a vector represents how long the vector is — the distance from the origin to the point it defines.\n",
    "\n",
    "For a vector:\n",
    "\n",
    "$$\n",
    "\\mathbf{v} = \n",
    "\\begin{bmatrix}\n",
    "v_1 \\\\\n",
    "v_2 \\\\\n",
    "v_3\n",
    "\\end{bmatrix}\n",
    "$$\n",
    "\n",
    "The magnitude is given by:\n",
    "\n",
    "$$\n",
    "|\\mathbf{v}| = \\sqrt{v_1^2 + v_2^2 + v_3^2}\n",
    "$$\n",
    "\n",
    "### Example:\n",
    "If  \n",
    "$$\n",
    "\\mathbf{v} = \n",
    "\\begin{bmatrix}\n",
    "3 \\\\\n",
    "4\n",
    "\\end{bmatrix}\n",
    "$$\n",
    "\n",
    "then  \n",
    "\n",
    "$$\n",
    "|\\mathbf{v}| = \\sqrt{3^2 + 4^2} = 5\n",
    "$$\n",
    "\n"
   ]
  },
  {
   "cell_type": "code",
   "execution_count": 8,
   "id": "92210586",
   "metadata": {},
   "outputs": [
    {
     "name": "stdout",
     "output_type": "stream",
     "text": [
      "5.0\n"
     ]
    }
   ],
   "source": [
    "v = np.array([3, 4])\n",
    "magnitude = np.linalg.norm(v)\n",
    "print(magnitude)  "
   ]
  },
  {
   "cell_type": "markdown",
   "id": "26c8edf3",
   "metadata": {},
   "source": [
    "## Types of Vector\n",
    "\n",
    "| **Type**           | **Description**                 | **Example**                                     |\n",
    "| ------------------ | ------------------------------- | ----------------------------------------------- |\n",
    "| Zero Vector        | All components are 0            | `[0, 0, 0]`                                     |\n",
    "| Unit Vector        | Magnitude = 1                   | `[1, 0, 0]` or `[0, 1, 0]`                      |\n",
    "| Equal Vectors      | Same direction & magnitude      | `[2, 3]` and `[2, 3]`                           |\n",
    "| Negative Vectors   | Opposite direction              | `[2, 3]` and `[-2, -3]`                         |\n",
    "| Parallel Vectors   | Same or opposite direction      | `[1, 2]` and `[2, 4]`                           |\n",
    "| Orthogonal Vectors | Perpendicular (dot product = 0) | `[1, 0]` and `[0, 1]`                           |\n",
    "| Position Vector    | Represents a point from origin  | `[x, y, z]`                                     |\n",
    "| Row/Column Vector  | Representation type             | `[1, 2, 3]` (row) or `[[1], [2], [3]]` (column) |\n"
   ]
  },
  {
   "cell_type": "code",
   "execution_count": 3,
   "id": "c6868189",
   "metadata": {},
   "outputs": [
    {
     "name": "stdout",
     "output_type": "stream",
     "text": [
      "Row Vector: [2 4 6]\n",
      "Column Vector:\n",
      " [[1]\n",
      " [2]\n",
      " [3]]\n",
      "Zero Vector: [0. 0. 0.]\n",
      "Unit Vector: [1 0]\n"
     ]
    }
   ],
   "source": [
    "\n",
    "v = np.array([2, 4, 6])          # Row vector\n",
    "v_col = np.array([[1], [2], [3]]) # Column vector\n",
    "zero_vec = np.zeros(3)            # Zero vector\n",
    "unit_vec = np.array([1, 0])       # Unit vector example\n",
    "\n",
    "print(\"Row Vector:\", v)\n",
    "print(\"Column Vector:\\n\", v_col)\n",
    "print(\"Zero Vector:\", zero_vec)\n",
    "print(\"Unit Vector:\", unit_vec)\n"
   ]
  },
  {
   "cell_type": "markdown",
   "id": "5c46cecb",
   "metadata": {},
   "source": [
    "<br><br>\n",
    "##  Vector Operations\n",
    "\n",
    "| Operation | Description | Formula | Example |\n",
    "|------------|--------------|----------|----------|\n",
    "| Addition | Add corresponding elements | a + b | [1,2] + [3,4] = [4,6] |\n",
    "| Subtraction | Subtract corresponding elements | a - b | [3,5] - [1,2] = [2,3] |\n",
    "| Scalar Multiplication | Multiply each element by constant | k×v | 2×[1,2,3] = [2,4,6] |\n",
    "| Dot Product | a₁b₁ + a₂b₂ + … | np.dot(a,b) | [1,2,3]·[4,5,6] = 32 |\n",
    "| Magnitude | √(a₁² + a₂² + …) | np.linalg.norm(a) | [3,4] → 5 |\n",
    "\n",
    "---\n"
   ]
  },
  {
   "cell_type": "code",
   "execution_count": 4,
   "id": "852c8078",
   "metadata": {},
   "outputs": [
    {
     "name": "stdout",
     "output_type": "stream",
     "text": [
      "a + b = [5 7 9]\n",
      "a - b = [-3 -3 -3]\n",
      "k * a = [2 4 6]\n",
      "Dot product = 32\n",
      "Magnitude of a = 3.7416573867739413\n"
     ]
    }
   ],
   "source": [
    "a = np.array([1, 2, 3])\n",
    "b = np.array([4, 5, 6])\n",
    "k = 2\n",
    "\n",
    "print(\"a + b =\", a + b)\n",
    "print(\"a - b =\", a - b)\n",
    "print(\"k * a =\", k * a)\n",
    "print(\"Dot product =\", np.dot(a, b))\n",
    "print(\"Magnitude of a =\", np.linalg.norm(a))\n"
   ]
  },
  {
   "cell_type": "markdown",
   "id": "ad71961f",
   "metadata": {},
   "source": [
    "## Properties of vector\n",
    "\n",
    "| **Property**           | **Expression**            | **Description**                       |\n",
    "| ---------------------- | ------------------------- | ------------------------------------- |\n",
    "| Commutative            | a + b = b + a             | Order doesn’t matter in addition      |\n",
    "| Associative            | (a + b) + c = a + (b + c) | Grouping doesn’t matter               |\n",
    "| Distributive           | k(a + b) = ka + kb        | Scalar distributes                    |\n",
    "| Zero Vector            | a + 0 = a                 | Adding zero doesn’t change the vector |\n",
    "| Negative Vector        | a + (−a) = 0              | Cancels out                           |\n",
    "| Magnitude Non-Negative | |a| ≥ 0                   | Vector length can’t be negative       |\n"
   ]
  },
  {
   "cell_type": "markdown",
   "id": "b267831d",
   "metadata": {},
   "source": [
    "<br><br><br><br>\n",
    "> #  What is a Matrix?\n",
    "\n",
    "A **matrix** is a **rectangular array of numbers** arranged in **rows and columns**.\n",
    "\n",
    "Example:\n",
    "$$\n",
    "A = \n",
    "\\begin{bmatrix}\n",
    "1 & 2 & 3 \\\\\n",
    "4 & 5 & 6\n",
    "\\end{bmatrix}\n",
    "$$\n",
    "\n",
    "In NumPy:\n",
    "```python\n",
    "A = np.array([[1, 2, 3], [4, 5, 6]])\n"
   ]
  },
  {
   "cell_type": "markdown",
   "id": "8cab5fce",
   "metadata": {},
   "source": [
    "## Types of Matrix\n",
    "\n",
    "| **Type**              | **Description**         | **Example**         |\n",
    "| --------------------- | ----------------------- | ------------------- |\n",
    "| Row Matrix            | Single row              | `[1, 2, 3]`         |\n",
    "| Column Matrix         | Single column           | `[[1], [2], [3]]`   |\n",
    "| Square Matrix         | Rows = Columns          | `[[1, 2], [3, 4]]`  |\n",
    "| Zero Matrix           | All elements are 0      | `[[0, 0], [0, 0]]`  |\n",
    "| Diagonal Matrix       | Non-diagonal = 0        | `[[5, 0], [0, 7]]`  |\n",
    "| Scalar Matrix         | Diagonal elements equal | `[[3, 0], [0, 3]]`  |\n",
    "| Identity Matrix (I)   | Diagonal = 1            | `[[1, 0], [0, 1]]`  |\n",
    "| Symmetric Matrix      | A = Aᵀ                  | `[[1, 2], [2, 1]]`  |\n",
    "| Skew-Symmetric Matrix | Aᵀ = −A                 | `[[0, 2], [-2, 0]]` |\n",
    "| Upper Triangular      | Below diagonal = 0      | `[[1, 2], [0, 3]]`  |\n",
    "| Lower Triangular      | Above diagonal = 0      | `[[1, 0], [4, 5]]`  |\n"
   ]
  },
  {
   "cell_type": "code",
   "execution_count": 5,
   "id": "6de24fab",
   "metadata": {},
   "outputs": [
    {
     "name": "stdout",
     "output_type": "stream",
     "text": [
      "Matrix A:\n",
      " [[1 2 3]\n",
      " [4 5 6]]\n",
      "Matrix B:\n",
      " [[ 7  8  9]\n",
      " [10 11 12]]\n",
      "Identity Matrix:\n",
      " [[1. 0.]\n",
      " [0. 1.]]\n",
      "Zero Matrix:\n",
      " [[0. 0.]\n",
      " [0. 0.]]\n"
     ]
    }
   ],
   "source": [
    "\n",
    "A = np.array([[1, 2, 3], [4, 5, 6]])\n",
    "B = np.array([[7, 8, 9], [10, 11, 12]])\n",
    "I = np.eye(2)  # Identity matrix\n",
    "O = np.zeros((2, 2))  # Zero matrix\n",
    "\n",
    "print(\"Matrix A:\\n\", A)\n",
    "print(\"Matrix B:\\n\", B)\n",
    "print(\"Identity Matrix:\\n\", I)\n",
    "print(\"Zero Matrix:\\n\", O)\n"
   ]
  },
  {
   "cell_type": "markdown",
   "id": "27ac70a8",
   "metadata": {},
   "source": [
    "##  Basic Matrix Operations\n",
    "\n",
    "| Operation | Rule | Example |\n",
    "|------------|------|----------|\n",
    "| Addition | Same shape only | A + B |\n",
    "| Subtraction | Same shape only | A - B |\n",
    "| Scalar Multiplication | Multiply each element | 2×A |\n",
    "| Transpose | Swap rows ↔ columns | Aᵀ |\n",
    "| Matrix Multiplication | Inner dimensions must match | A(2×3) × B(3×2) |\n",
    "| Determinant | Square matrices only | np.linalg.det(A) |\n",
    "| Inverse | Square matrices only | np.linalg.inv(A) |\n",
    "\n",
    "---\n"
   ]
  },
  {
   "cell_type": "code",
   "execution_count": 6,
   "id": "35b7392a",
   "metadata": {},
   "outputs": [
    {
     "name": "stdout",
     "output_type": "stream",
     "text": [
      "A + B =\n",
      " [[ 6  8]\n",
      " [10 12]]\n",
      "A - B =\n",
      " [[-4 -4]\n",
      " [-4 -4]]\n",
      "2 * A =\n",
      " [[2 4]\n",
      " [6 8]]\n",
      "Transpose of A =\n",
      " [[1 3]\n",
      " [2 4]]\n",
      "Matrix Multiplication (A x B) =\n",
      " [[19 22]\n",
      " [43 50]]\n",
      "Determinant of A = -2.0000000000000004\n",
      "Inverse of A =\n",
      " [[-2.   1. ]\n",
      " [ 1.5 -0.5]]\n"
     ]
    }
   ],
   "source": [
    "A = np.array([[1, 2], [3, 4]])\n",
    "B = np.array([[5, 6], [7, 8]])\n",
    "\n",
    "print(\"A + B =\\n\", A + B)\n",
    "print(\"A - B =\\n\", A - B)\n",
    "print(\"2 * A =\\n\", 2 * A)\n",
    "print(\"Transpose of A =\\n\", A.T)\n",
    "print(\"Matrix Multiplication (A x B) =\\n\", np.dot(A, B))\n",
    "print(\"Determinant of A =\", np.linalg.det(A))\n",
    "print(\"Inverse of A =\\n\", np.linalg.inv(A))\n"
   ]
  },
  {
   "cell_type": "markdown",
   "id": "076b5dcc",
   "metadata": {},
   "source": [
    "#  Summary: Vectors & Matrices in Data Science and Machine Learning\n",
    "\n",
    "##  What Are They?\n",
    "\n",
    "- **Vectors** are **1D arrays** of numbers — they represent **features, directions, or data points**.  \n",
    "  Example: `[height, weight, age] = [170, 65, 25]`\n",
    "\n",
    "- **Matrices** are **2D arrays** of numbers — they store **multiple vectors together** or represent **linear transformations**.  \n",
    "  Example: a dataset of 3 samples and 2 features:\n",
    "  $$\n",
    "  X = \n",
    "  \\begin{bmatrix}\n",
    "  170 & 65 \\\\\n",
    "  160 & 55 \\\\\n",
    "  180 & 75\n",
    "  \\end{bmatrix}\n",
    "  $$\n",
    "\n",
    "##  How to Use Them\n",
    "\n",
    "- In Python (NumPy), vectors and matrices are created using:\n",
    "  ```python\n",
    "  import numpy as np\n",
    "  \n",
    "  v = np.array([2, 3, 4])          # Vector\n",
    "  A = np.array([[1, 2], [3, 4]])   # Matrix\n"
   ]
  }
 ],
 "metadata": {
  "kernelspec": {
   "display_name": ".venv",
   "language": "python",
   "name": "python3"
  },
  "language_info": {
   "codemirror_mode": {
    "name": "ipython",
    "version": 3
   },
   "file_extension": ".py",
   "mimetype": "text/x-python",
   "name": "python",
   "nbconvert_exporter": "python",
   "pygments_lexer": "ipython3",
   "version": "3.11.0"
  }
 },
 "nbformat": 4,
 "nbformat_minor": 5
}
