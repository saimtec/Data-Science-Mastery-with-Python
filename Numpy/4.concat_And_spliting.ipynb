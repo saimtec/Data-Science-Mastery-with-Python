{
 "cells": [
  {
   "cell_type": "markdown",
   "id": "fb0056ef",
   "metadata": {},
   "source": [
    "# Concatenate function\n",
    "* used to join matrix along x or y axis means 0 or 1"
   ]
  },
  {
   "cell_type": "code",
   "execution_count": null,
   "id": "58903bd6",
   "metadata": {},
   "outputs": [
    {
     "name": "stdout",
     "output_type": "stream",
     "text": [
      "[ 1  2  3  4  5  6  7  8  9 10]\n"
     ]
    }
   ],
   "source": [
    "import numpy as np\n",
    "\n",
    "# 1d concatenate\n",
    "arr1 = np.array([1,2,3,4,5])\n",
    "arr2 = np.array([6,7,8,9,10])\n",
    "arr = np.concatenate((arr1 , arr2))\n",
    "print(arr)"
   ]
  },
  {
   "cell_type": "code",
   "execution_count": null,
   "id": "002362ed",
   "metadata": {},
   "outputs": [
    {
     "name": "stdout",
     "output_type": "stream",
     "text": [
      "[[ 1  2  3  4  5  6  7  8  9 10]\n",
      " [11 12 13 14 15 16 17 18 19 20]]\n"
     ]
    }
   ],
   "source": [
    "# 2d concatenate on x axis\n",
    "arr1 = np.array([[1,2,3,4,5] , [11,12,13,14,15]])\n",
    "arr2 = np.array([[6,7,8,9,10] , [16,17,18,19,20]])\n",
    "arr = np.concatenate((arr1 , arr2) , axis=1)\n",
    "print(arr)"
   ]
  },
  {
   "cell_type": "code",
   "execution_count": 11,
   "id": "6adf0d95",
   "metadata": {},
   "outputs": [
    {
     "name": "stdout",
     "output_type": "stream",
     "text": [
      "[[ 1  2  3  4  5]\n",
      " [11 12 13 14 15]\n",
      " [ 6  7  8  9 10]\n",
      " [16 17 18 19 20]]\n"
     ]
    }
   ],
   "source": [
    "# 2d concatenate on y axis\n",
    "arr1 = np.array([[1,2,3,4,5] , [11,12,13,14,15]])\n",
    "arr2 = np.array([[6,7,8,9,10] , [16,17,18,19,20]])\n",
    "arr = np.concatenate((arr1 , arr2) , axis=0)\n",
    "print(arr)"
   ]
  },
  {
   "cell_type": "markdown",
   "id": "11cc1011",
   "metadata": {},
   "source": [
    "<br><br>\n",
    "# Spliting\n"
   ]
  },
  {
   "cell_type": "code",
   "execution_count": 13,
   "id": "3b61942c",
   "metadata": {},
   "outputs": [
    {
     "name": "stdout",
     "output_type": "stream",
     "text": [
      "[array([1, 2, 3]), array([4, 5])]\n"
     ]
    }
   ],
   "source": [
    "arr = np.array([1,2,3,4,5])\n",
    "new_arr = np.array_split(arr ,2)\n",
    "print(new_arr)"
   ]
  },
  {
   "cell_type": "code",
   "execution_count": 15,
   "id": "97f57b0a",
   "metadata": {},
   "outputs": [
    {
     "name": "stdout",
     "output_type": "stream",
     "text": [
      "[array([1, 2, 3]), array([4, 5, 6]), array([7, 8])]\n"
     ]
    }
   ],
   "source": [
    "arr = np.array([1,2,3,4,5,6,7,8])\n",
    "new_arr = np.array_split(arr ,3)\n",
    "print(new_arr)"
   ]
  }
 ],
 "metadata": {
  "kernelspec": {
   "display_name": ".venv",
   "language": "python",
   "name": "python3"
  },
  "language_info": {
   "codemirror_mode": {
    "name": "ipython",
    "version": 3
   },
   "file_extension": ".py",
   "mimetype": "text/x-python",
   "name": "python",
   "nbconvert_exporter": "python",
   "pygments_lexer": "ipython3",
   "version": "3.11.0"
  }
 },
 "nbformat": 4,
 "nbformat_minor": 5
}
