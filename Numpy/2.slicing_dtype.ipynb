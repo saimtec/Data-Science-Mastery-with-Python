{
 "cells": [
  {
   "cell_type": "markdown",
   "id": "39382da6",
   "metadata": {},
   "source": [
    "# slicing in numpy\n"
   ]
  },
  {
   "cell_type": "code",
   "execution_count": 1,
   "id": "4261d91b",
   "metadata": {},
   "outputs": [],
   "source": [
    "import numpy as np"
   ]
  },
  {
   "cell_type": "code",
   "execution_count": null,
   "id": "395827cd",
   "metadata": {},
   "outputs": [
    {
     "name": "stdout",
     "output_type": "stream",
     "text": [
      "printing 20 to 50 : [20 30 40 50]\n",
      "akiping one number : [10 30 50 70]\n"
     ]
    }
   ],
   "source": [
    "#1d slicing\n",
    "arr=np.array([10,20,30,40,50,60,70])\n",
    "print(f\"printing 20 to 50 : {arr[1:5]}\")\n",
    "print(f\"skiping one number : {arr[::2]}\")"
   ]
  },
  {
   "cell_type": "code",
   "execution_count": 8,
   "id": "1415a591",
   "metadata": {},
   "outputs": [
    {
     "name": "stdout",
     "output_type": "stream",
     "text": [
      "printing 20 to 50 : [20 30 40 50]\n",
      "skiping one number from secind row : [100 300 500 700]\n"
     ]
    }
   ],
   "source": [
    "#2d slicing\n",
    "arr=np.array([[10,20,30,40,50,60,70] , [100,200,300,400,500,600,700]])\n",
    "print(f\"printing 20 to 50 : {arr[0,1:5]}\")\n",
    "print(f\"skiping one number from secind row : {arr[1,::2]}\")"
   ]
  },
  {
   "cell_type": "code",
   "execution_count": 16,
   "id": "75af9608",
   "metadata": {},
   "outputs": [
    {
     "name": "stdout",
     "output_type": "stream",
     "text": [
      "printing 2 to 5 : [2 3 4 5]\n",
      "skiping one number from secind row : [10 30 50 70]\n",
      "printing last two elements from 3rd row : [600 700]\n"
     ]
    }
   ],
   "source": [
    "#3d slicing\n",
    "arr=np.array([[[1,2,3,4,5,6,7] ,[10,20,30,40,50,60,70] , [100,200,300,400,500,600,700]]])\n",
    "print(f\"printing 2 to 5 : {arr[0,0,1:5]}\")\n",
    "print(f\"skiping one number from secind row : {arr[0,1,::2]}\")\n",
    "print(f\"printing last two elements from 3rd row : {arr[0,2,5:7]}\")"
   ]
  },
  {
   "cell_type": "code",
   "execution_count": 11,
   "id": "b59379f2",
   "metadata": {},
   "outputs": [
    {
     "name": "stdout",
     "output_type": "stream",
     "text": [
      "printing 2 to 5 : [2 3 4 5]\n",
      "skiping one number from secind row : [12 66 88 65]\n",
      "printing 10 to 50 : [10 20 30 40 50]\n",
      "skiping one number from fourth row : [100 300 500 700]\n"
     ]
    }
   ],
   "source": [
    "#3d slicing\n",
    "arr=np.array([[[1,2,3,4,5,6,7] , [12,34,66,77,88,99,65]] ,[[10,20,30,40,50,60,70] , [100,200,300,400,500,600,700]]])\n",
    "print(f\"printing 2 to 5 : {arr[0,0,1:5]}\")\n",
    "print(f\"skiping one number from secind row : {arr[0,1,::2]}\")\n",
    "print(f\"printing 10 to 50 : {arr[1,0,0:5]}\")\n",
    "print(f\"skiping one number from fourth row : {arr[1,1,::2]}\")"
   ]
  },
  {
   "cell_type": "markdown",
   "id": "f034ca78",
   "metadata": {},
   "source": [
    "<br><br>\n",
    "\n",
    "\n",
    "# DataTypes in Numpy\n",
    "Numpy have some extra datatypes\n",
    "* i -- integer\n",
    "* u -- unsigned integer\n",
    "* b -- boolean\n",
    "* f -- float\n",
    "* c -- complete float\n",
    "* M -- dateTime\n",
    "* O -- object\n",
    "* S -- string\n",
    "* U -- unicode string\n",
    "* V -- void\n",
    "\n",
    "#### DataType can checked through dtype()\n"
   ]
  },
  {
   "cell_type": "code",
   "execution_count": 17,
   "id": "1404432a",
   "metadata": {},
   "outputs": [
    {
     "name": "stdout",
     "output_type": "stream",
     "text": [
      "[1 2 3 4 5]\n",
      "int64\n"
     ]
    }
   ],
   "source": [
    "arr=np.array([1,2,3,4,5])\n",
    "print(arr)\n",
    "print(arr.dtype)"
   ]
  },
  {
   "cell_type": "code",
   "execution_count": null,
   "id": "e0e98d0e",
   "metadata": {},
   "outputs": [
    {
     "name": "stdout",
     "output_type": "stream",
     "text": [
      "['lion' 'panda' 'tiger']\n",
      "<U5\n"
     ]
    }
   ],
   "source": [
    "arr=np.array(['lion' ,'panda','tiger'])\n",
    "print(arr)\n",
    "print(arr.dtype)"
   ]
  },
  {
   "cell_type": "markdown",
   "id": "ce19b3b7",
   "metadata": {},
   "source": [
    "##### creating own datatype data"
   ]
  },
  {
   "cell_type": "code",
   "execution_count": 22,
   "id": "795ae061",
   "metadata": {},
   "outputs": [
    {
     "name": "stdout",
     "output_type": "stream",
     "text": [
      "[b'1' b'2' b'3' b'4' b'5']\n",
      "|S1\n"
     ]
    }
   ],
   "source": [
    "arr=np.array([1,2,3,4,5] , dtype='S')\n",
    "print(arr)\n",
    "print(arr.dtype)"
   ]
  },
  {
   "cell_type": "code",
   "execution_count": null,
   "id": "e121e1ea",
   "metadata": {},
   "outputs": [
    {
     "name": "stdout",
     "output_type": "stream",
     "text": [
      "[1 2 3 4 5]\n",
      "int32\n"
     ]
    }
   ],
   "source": [
    "arr=np.array([1,2,3,4,5] , dtype='i4')    #i4 -> integer of 4 byte mean 32 bits\n",
    "print(arr)\n",
    "print(arr.dtype)"
   ]
  },
  {
   "cell_type": "code",
   "execution_count": 24,
   "id": "d7df80be",
   "metadata": {},
   "outputs": [
    {
     "name": "stdout",
     "output_type": "stream",
     "text": [
      "[1. 2. 3. 4. 5.]\n",
      "float32\n"
     ]
    }
   ],
   "source": [
    "arr=np.array([1,2,3,4,5] , dtype='f')\n",
    "print(arr)\n",
    "print(arr.dtype)"
   ]
  }
 ],
 "metadata": {
  "kernelspec": {
   "display_name": ".venv",
   "language": "python",
   "name": "python3"
  },
  "language_info": {
   "codemirror_mode": {
    "name": "ipython",
    "version": 3
   },
   "file_extension": ".py",
   "mimetype": "text/x-python",
   "name": "python",
   "nbconvert_exporter": "python",
   "pygments_lexer": "ipython3",
   "version": "3.11.0"
  }
 },
 "nbformat": 4,
 "nbformat_minor": 5
}
