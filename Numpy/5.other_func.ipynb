{
 "cells": [
  {
   "cell_type": "code",
   "execution_count": 81,
   "id": "eef11777",
   "metadata": {},
   "outputs": [],
   "source": [
    "import numpy as np"
   ]
  },
  {
   "cell_type": "markdown",
   "id": "36e21ccb",
   "metadata": {},
   "source": [
    "### np.shape() -->to get to knew about the number of elements in dimension"
   ]
  },
  {
   "cell_type": "code",
   "execution_count": 82,
   "id": "3b89043a",
   "metadata": {},
   "outputs": [
    {
     "name": "stdout",
     "output_type": "stream",
     "text": [
      "(5,)\n"
     ]
    }
   ],
   "source": [
    "# 1d\n",
    "arr = np.array([1,2,3,4,5])\n",
    "a = np.shape(arr)\n",
    "print(a)"
   ]
  },
  {
   "cell_type": "code",
   "execution_count": 83,
   "id": "1bbee694",
   "metadata": {},
   "outputs": [
    {
     "name": "stdout",
     "output_type": "stream",
     "text": [
      "(2, 4)\n"
     ]
    }
   ],
   "source": [
    "# 2d array\n",
    "arr = np.array([[1,2,3,4],[5,6,7,8]])\n",
    "a= np.shape(arr)\n",
    "print(a)\n"
   ]
  },
  {
   "cell_type": "code",
   "execution_count": 84,
   "id": "767cab46",
   "metadata": {},
   "outputs": [
    {
     "name": "stdout",
     "output_type": "stream",
     "text": [
      "(2, 2, 4)\n"
     ]
    }
   ],
   "source": [
    "# 3d array\n",
    "arr = np.array([[[1,2,3,4],[5,6,7,8]] ,[[1,2,3,4],[5,6,7,8]]])\n",
    "a = np.shape(arr)\n",
    "print(a)"
   ]
  },
  {
   "cell_type": "markdown",
   "id": "11de2bdf",
   "metadata": {},
   "source": [
    "<br><br>\n",
    "### Ravel and Flatten\n",
    "* used to change any dimension to 1d"
   ]
  },
  {
   "cell_type": "code",
   "execution_count": 85,
   "id": "1e33ce50",
   "metadata": {},
   "outputs": [
    {
     "name": "stdout",
     "output_type": "stream",
     "text": [
      "dimension before ravel is :2\n",
      "[1 2 3 4 5 6 7 8]\n",
      "dimension after the ravel :1\n"
     ]
    }
   ],
   "source": [
    "# 2d array\n",
    "arr = np.array([[1,2,3,4],[5,6,7,8]])\n",
    "print(f\"dimension before ravel is :{arr.ndim}\")\n",
    "r = np.ravel(arr)\n",
    "print(r)\n",
    "print(f\"dimension after the ravel :{r.ndim}\")\n"
   ]
  },
  {
   "cell_type": "code",
   "execution_count": 86,
   "id": "822b5fe0",
   "metadata": {},
   "outputs": [
    {
     "name": "stdout",
     "output_type": "stream",
     "text": [
      "dimension before ravel is :5\n",
      "[ 1  2  3  4  5 11 12 13 14 15  1  2  3  4  5  4  5  6  7  8]\n",
      "dimension after the ravel :1\n"
     ]
    }
   ],
   "source": [
    "# 4d \n",
    "arr = np.array([[[[ [1,2,3,4,5] , [11,12,13,14,15] ,[1,2,3,4,5],[4,5,6,7,8] ]]]])\n",
    "print(f\"dimension before ravel is :{arr.ndim}\")\n",
    "r = np.ravel(arr)\n",
    "print(r)\n",
    "print(f\"dimension after the ravel :{r.ndim}\")\n"
   ]
  },
  {
   "cell_type": "code",
   "execution_count": 87,
   "id": "27bc2c50",
   "metadata": {},
   "outputs": [
    {
     "name": "stdout",
     "output_type": "stream",
     "text": [
      "dimension before flatten is :2\n",
      "[[1 2 3 4]\n",
      " [5 6 7 8]]\n",
      "dimension after the flatten :1\n"
     ]
    }
   ],
   "source": [
    "# 2d array\n",
    "arr = np.array([[1,2,3,4],[5,6,7,8]])\n",
    "print(f\"dimension before flatten is :{arr.ndim}\")\n",
    "arr.flatten()\n",
    "print(arr)\n",
    "print(f\"dimension after the flatten :{r.ndim}\")\n"
   ]
  },
  {
   "cell_type": "markdown",
   "id": "0177c897",
   "metadata": {},
   "source": [
    "<br><br>\n",
    "### Unique\n",
    "* to get the unique elements from the array"
   ]
  },
  {
   "cell_type": "code",
   "execution_count": 88,
   "id": "8066f54d",
   "metadata": {},
   "outputs": [
    {
     "name": "stdout",
     "output_type": "stream",
     "text": [
      "[ 1  2  3  4  5  6  7  8 12 14 55]\n"
     ]
    }
   ],
   "source": [
    "arr = np.array([1,2,3,4,5,6,7,8,12,12,14,4,5,7,55])\n",
    "u = np.unique(arr)\n",
    "print(u)"
   ]
  },
  {
   "cell_type": "code",
   "execution_count": 89,
   "id": "8a28e25e",
   "metadata": {},
   "outputs": [
    {
     "name": "stdout",
     "output_type": "stream",
     "text": [
      "(array([ 1,  2,  3,  4,  5,  6,  7,  8, 12, 14, 55]), array([ 0,  1,  2,  3,  4,  5,  6,  7,  8, 10, 14]))\n"
     ]
    }
   ],
   "source": [
    "# if also wants the index number\n",
    "arr = np.array([1,2,3,4,5,6,7,8,12,12,14,4,5,7,55])\n",
    "u = np.unique(arr ,return_index=True )\n",
    "print(u)"
   ]
  },
  {
   "cell_type": "code",
   "execution_count": 90,
   "id": "5e4903c2",
   "metadata": {},
   "outputs": [
    {
     "name": "stdout",
     "output_type": "stream",
     "text": [
      "(array([ 1,  2,  3,  4,  5,  6,  7,  8, 12, 14, 55]), array([ 0,  1,  2,  3,  4,  5,  6,  7,  8, 10, 14]), array([1, 1, 1, 2, 2, 1, 2, 1, 2, 1, 1]))\n"
     ]
    }
   ],
   "source": [
    "# if also wants the index number and how much time a number repeats\n",
    "arr = np.array([1,2,3,4,5,6,7,8,12,12,14,4,5,7,55])\n",
    "u = np.unique(arr ,return_index=True , return_counts=True)\n",
    "print(u)"
   ]
  },
  {
   "cell_type": "markdown",
   "id": "7062634a",
   "metadata": {},
   "source": [
    "<br><br>\n",
    "\n",
    "### Delete"
   ]
  },
  {
   "cell_type": "code",
   "execution_count": 91,
   "id": "71b379b7",
   "metadata": {},
   "outputs": [
    {
     "name": "stdout",
     "output_type": "stream",
     "text": [
      "[2 3 4 5 6 7 8]\n"
     ]
    }
   ],
   "source": [
    "#deleting using index number\n",
    "arr = np.array([1,2,3,4,5,6,7,8])\n",
    "d = np.delete(arr , [0])              \n",
    "print(d)"
   ]
  },
  {
   "cell_type": "code",
   "execution_count": 92,
   "id": "4edf4f90",
   "metadata": {},
   "outputs": [
    {
     "name": "stdout",
     "output_type": "stream",
     "text": [
      "[1 3 4 6 7 8]\n"
     ]
    }
   ],
   "source": [
    "# delete multiple items\n",
    "arr = np.array([1,2,3,4,5,6,7,8])\n",
    "d = np.delete(arr , [1,4])        # remove index 1 and 4        \n",
    "print(d)"
   ]
  },
  {
   "cell_type": "code",
   "execution_count": 93,
   "id": "e6cd8622",
   "metadata": {},
   "outputs": [
    {
     "name": "stdout",
     "output_type": "stream",
     "text": [
      "[[[11 12 13 14 15]\n",
      "  [66 77  8 99 55]]]\n"
     ]
    }
   ],
   "source": [
    "# deleting entire row\n",
    "arr = np.array([[[1,2,3,4,5] , [11,12,13,14,15] , [66,77,8,99,55]]])\n",
    "d = np.delete(arr ,0 , axis=1)              \n",
    "print(d)"
   ]
  },
  {
   "cell_type": "code",
   "execution_count": 113,
   "id": "412d8cf2",
   "metadata": {},
   "outputs": [
    {
     "name": "stdout",
     "output_type": "stream",
     "text": [
      "[[ 1  2  3  4  5]\n",
      " [11 12 13 14 15]]\n"
     ]
    }
   ],
   "source": [
    "# deleting entire row\n",
    "arr = np.array([[1,2,3,4,5] , [11,12,13,14,15], [11,22,33,44,55]])\n",
    "d = np.delete(arr ,2 , axis=0)              \n",
    "print(d)"
   ]
  },
  {
   "cell_type": "markdown",
   "id": "d93c66b9",
   "metadata": {},
   "source": [
    "<br><br>\n",
    "## Memory calculation"
   ]
  },
  {
   "cell_type": "code",
   "execution_count": 115,
   "id": "517ae918",
   "metadata": {},
   "outputs": [
    {
     "name": "stdout",
     "output_type": "stream",
     "text": [
      "4\n",
      "8\n",
      "memory =  32\n"
     ]
    }
   ],
   "source": [
    "integers = np.array([\n",
    "    [1, 3] , \n",
    "    [4,4]\n",
    "])\n",
    "\n",
    "print(integers.size)\n",
    "print(integers.itemsize)\n",
    "print(\"memory = \",integers.size * integers.itemsize)"
   ]
  },
  {
   "cell_type": "markdown",
   "id": "d4f3ad6b",
   "metadata": {},
   "source": [
    "<br><br>\n",
    "## Fill with specific values\n",
    "\n",
    "> zeros,\n",
    ">ones,\n",
    ">full"
   ]
  },
  {
   "cell_type": "code",
   "execution_count": 116,
   "id": "bed131d7",
   "metadata": {},
   "outputs": [
    {
     "data": {
      "text/plain": [
       "array([0, 0, 0, 0, 0, 0, 0, 0, 0, 0])"
      ]
     },
     "execution_count": 116,
     "metadata": {},
     "output_type": "execute_result"
    }
   ],
   "source": [
    "np.zeros(10 ,dtype=int)"
   ]
  },
  {
   "cell_type": "code",
   "execution_count": 117,
   "id": "c8fb8cfc",
   "metadata": {},
   "outputs": [
    {
     "data": {
      "text/plain": [
       "array([1., 1., 1., 1., 1., 1., 1., 1., 1., 1.])"
      ]
     },
     "execution_count": 117,
     "metadata": {},
     "output_type": "execute_result"
    }
   ],
   "source": [
    "np.ones(10 , dtype= float)"
   ]
  },
  {
   "cell_type": "code",
   "execution_count": 120,
   "id": "f9f0c13e",
   "metadata": {},
   "outputs": [
    {
     "data": {
      "text/plain": [
       "array([[2, 2, 2, 2, 2],\n",
       "       [2, 2, 2, 2, 2],\n",
       "       [2, 2, 2, 2, 2]])"
      ]
     },
     "execution_count": 120,
     "metadata": {},
     "output_type": "execute_result"
    }
   ],
   "source": [
    "# can also gives the dimension\n",
    "np.full((3,5) , 2)"
   ]
  },
  {
   "cell_type": "markdown",
   "id": "ef104ca0",
   "metadata": {},
   "source": [
    "<br><br>\n",
    "## arange\n",
    "* to generate specific numbers"
   ]
  },
  {
   "cell_type": "code",
   "execution_count": 123,
   "id": "38e70605",
   "metadata": {},
   "outputs": [
    {
     "data": {
      "text/plain": [
       "array([10., 11., 12., 13., 14., 15., 16., 17., 18., 19.])"
      ]
     },
     "execution_count": 123,
     "metadata": {},
     "output_type": "execute_result"
    }
   ],
   "source": [
    "np.arange(10,20,  dtype=float)"
   ]
  },
  {
   "cell_type": "markdown",
   "id": "55bb2d28",
   "metadata": {},
   "source": [
    "<br><br>\n",
    "## reshape\n",
    "* to change the dimension "
   ]
  },
  {
   "cell_type": "code",
   "execution_count": 139,
   "id": "70c62665",
   "metadata": {},
   "outputs": [
    {
     "name": "stdout",
     "output_type": "stream",
     "text": [
      "[ 1  2  3  4  5  6  7  8  9 10 11 12 13 14 15 16 17 18 19 20]\n",
      "\n",
      "[[ 1  2  3  4  5]\n",
      " [ 6  7  8  9 10]\n",
      " [11 12 13 14 15]\n",
      " [16 17 18 19 20]]\n"
     ]
    }
   ],
   "source": [
    "arr = np.arange(1,21)\n",
    "print(arr)\n",
    "print()\n",
    "arr1=np.arange(1,21).reshape(4,5)\n",
    "print(arr1)"
   ]
  },
  {
   "cell_type": "markdown",
   "id": "03ce1b83",
   "metadata": {},
   "source": [
    "<br><br>\n",
    "## universal functions\n"
   ]
  },
  {
   "cell_type": "code",
   "execution_count": 140,
   "id": "aba86a39",
   "metadata": {},
   "outputs": [
    {
     "data": {
      "text/plain": [
       "array([[44, 66, 88],\n",
       "       [56, 34, 22],\n",
       "       [88, 87, 45]])"
      ]
     },
     "execution_count": 140,
     "metadata": {},
     "output_type": "execute_result"
    }
   ],
   "source": [
    "grades = np.array([\n",
    "    [44 ,66 ,88] , \n",
    "    [56,34,22],\n",
    "    [88,87,45]\n",
    "])\n",
    "grades"
   ]
  },
  {
   "cell_type": "code",
   "execution_count": 141,
   "id": "9b25359f",
   "metadata": {},
   "outputs": [
    {
     "name": "stdout",
     "output_type": "stream",
     "text": [
      "530\n",
      "22\n",
      "88\n",
      "23.425742935897794\n",
      "548.7654320987654\n"
     ]
    }
   ],
   "source": [
    "print(grades.sum())\n",
    "print(grades.min())\n",
    "print(grades.max())\n",
    "print(grades.std())\n",
    "print(grades.var())"
   ]
  },
  {
   "cell_type": "code",
   "execution_count": 142,
   "id": "a71ed8b0",
   "metadata": {},
   "outputs": [
    {
     "data": {
      "text/plain": [
       "array([62.66666667, 62.33333333, 51.66666667])"
      ]
     },
     "execution_count": 142,
     "metadata": {},
     "output_type": "execute_result"
    }
   ],
   "source": [
    "# axis 0 is for horizontal rows\n",
    "grades.mean(axis=0)"
   ]
  },
  {
   "cell_type": "code",
   "execution_count": 143,
   "id": "f35d9b45",
   "metadata": {},
   "outputs": [
    {
     "data": {
      "text/plain": [
       "array([66.        , 37.33333333, 73.33333333])"
      ]
     },
     "execution_count": 143,
     "metadata": {},
     "output_type": "execute_result"
    }
   ],
   "source": [
    "# axis 1 is for columns vertically\n",
    "grades.mean(axis=1)"
   ]
  },
  {
   "cell_type": "code",
   "execution_count": 144,
   "id": "f2ca3e5e",
   "metadata": {},
   "outputs": [
    {
     "name": "stdout",
     "output_type": "stream",
     "text": [
      "[ 2  6 12 20 30 42]\n",
      "[ 3  5  7  9 11 13]\n"
     ]
    }
   ],
   "source": [
    "x=[1,2,3,4,5,6]\n",
    "y=[2,3,4,5,6,7]\n",
    "\n",
    "print(np.multiply(x ,y))\n",
    "print(np.add(x,y))\n"
   ]
  },
  {
   "cell_type": "code",
   "execution_count": 162,
   "id": "26fc214c",
   "metadata": {},
   "outputs": [
    {
     "name": "stdout",
     "output_type": "stream",
     "text": [
      "simple numbers                      [1 2 3 4 5 6 7 8 9]\n",
      "after multiplying with 2            [ 2  4  6  8 10 12 14 16 18]\n",
      "after adding 4 in each              [ 5  6  7  8  9 10 11 12 13]\n",
      "after double multiplying with each  [ 1  4  9 16 25 36 49 64 81]\n"
     ]
    }
   ],
   "source": [
    "# array operators\n",
    "\n",
    "numbers = np.arange(1,10)\n",
    "print(\"simple numbers                     \",numbers)\n",
    "print(\"after multiplying with 2           \",numbers * 2)\n",
    "print(\"after adding 4 in each             \",numbers + 4)\n",
    "print(\"after double multiplying with each \",numbers ** 2)\n"
   ]
  }
 ],
 "metadata": {
  "kernelspec": {
   "display_name": ".venv",
   "language": "python",
   "name": "python3"
  },
  "language_info": {
   "codemirror_mode": {
    "name": "ipython",
    "version": 3
   },
   "file_extension": ".py",
   "mimetype": "text/x-python",
   "name": "python",
   "nbconvert_exporter": "python",
   "pygments_lexer": "ipython3",
   "version": "3.11.0"
  }
 },
 "nbformat": 4,
 "nbformat_minor": 5
}
